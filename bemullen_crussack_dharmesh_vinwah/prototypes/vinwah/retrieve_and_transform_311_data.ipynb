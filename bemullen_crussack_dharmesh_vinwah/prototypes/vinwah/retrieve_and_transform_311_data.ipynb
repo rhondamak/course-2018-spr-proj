{
 "cells": [
  {
   "cell_type": "markdown",
   "metadata": {},
   "source": [
    "Code below is used for retrival of 311 data from data.boston.gov from period 2016-02-01 to 2018-03-30 "
   ]
  },
  {
   "cell_type": "code",
   "execution_count": 78,
   "metadata": {},
   "outputs": [],
   "source": [
    "import requests\n",
    "import json\n",
    "import pymongo\n",
    "\n",
    "# connect to MongoDB\n",
    "client = pymongo.MongoClient()\n",
    "repo = client.repo\n",
    "repo.authenticate('bemullen_crussack_dharmesh_vinwah', 'bemullen_crussack_dharmesh_vinwah')\n",
    "\n",
    "# collection name\n",
    "key = \"service_requests\"\n",
    "#group name\n",
    "ID  = 'bemullen_crussack_dharmesh_vinwah'\n",
    "\n",
    "# Retrive 311 data from data.boston.gov from period 2016-02-01 to 2018-03-30\n",
    "url = \"https://cs-people.bu.edu/dharmesh/cs591/591data/service_requests_filtered.json\"\n",
    "response = requests.get(url).text\n",
    "\n",
    "r = json.loads(response)\n",
    "\n",
    "#insert data in mongoDB under collection \"bemullen_crussack_dharmesh_vinwah.service_requests_test2\"\n",
    "repo.drop_collection(ID + '.' + key)\n",
    "repo.create_collection(ID + '.' + key)\n",
    "repo[ID + '.' + key].insert_many(r)\n",
    "repo.logout()"
   ]
  },
  {
   "cell_type": "markdown",
   "metadata": {},
   "source": []
  },
  {
   "cell_type": "markdown",
   "metadata": {},
   "source": []
  },
  {
   "cell_type": "markdown",
   "metadata": {},
   "source": [
    "Code below transform the 311 data, find the minimum amount of people required to accomodate all incoming calls, find average and standard diviation of minimum amount of people required to accomodate each incoming call"
   ]
  },
  {
   "cell_type": "code",
   "execution_count": 85,
   "metadata": {},
   "outputs": [
    {
     "name": "stderr",
     "output_type": "stream",
     "text": [
      "/Users/vincentwahl/anaconda3/lib/python3.6/site-packages/ipykernel_launcher.py:151: DeprecationWarning: Database.logout() is deprecated\n"
     ]
    }
   ],
   "source": [
    "# Filename: TransformServiceRequestsTemp.py\n",
    "# Author: Vincent Wahl <vinwah@bu.edu>\n",
    "#\n",
    "import datetime\n",
    "import pymongo\n",
    "from operator import itemgetter\n",
    "import numpy as np\n",
    "\n",
    "\n",
    "def select(R, s):\n",
    "    return [t for t in R if s(t)]\n",
    "\n",
    "def project(R, p):\n",
    "    return [p(t) for t in R]\n",
    "\n",
    "# optimization solver:  given time intervals of work loads, what is the amount of resources required to accomodate\n",
    "#                       for all the jobs\n",
    "# input:  intervals in a list with elements on form (datetime(start_time), datetime(end_time))\n",
    "# output: (minimum number of resources on maximum load, average number of resources, standared diviation of resources, total amount of intervals)\n",
    "def intervalPartitioning(data):\n",
    "    # sort in increasing order of start times\n",
    "    D = sorted(data, key=itemgetter(0))\n",
    "\n",
    "    # project on form (start_time, end_time, [unavailable_resource,...], assigned_resource)\n",
    "    D = project(D, lambda x: (x[0],x[1],[],-1)) \n",
    "    \n",
    "    # resource list, extended if needed\n",
    "    resources = [0]\n",
    "\n",
    "    for i in range(len(D)):\n",
    "        \n",
    "        # find available resource\n",
    "        for resource in resources:\n",
    "            # assign a resource that is not in its unavailable list\n",
    "            if resource not in D[i][2]:\n",
    "                D[i] = (D[i][0], D[i][1], D[i][2], resource)\n",
    "        \n",
    "        # if no resource is available, extend resources by one and assign to interval\n",
    "        if D[i][3] == -1:\n",
    "            resource = len(resources)\n",
    "            resources.append(resource)\n",
    "            D[i] = (D[i][0], D[i][1], D[i][2], resource)\n",
    "\n",
    "        # put P[i]'s resource into unavailable list of P[j] if j's start time overlap with i's\n",
    "        for j in range(i+1, len(D)):\n",
    "            if D[i][1] < D[j][0]:\n",
    "                break\n",
    "            D[j][2].append(D[i][3])\n",
    "\n",
    "    # number of resources required to accomodate each resource\n",
    "    resources_required = project(D, lambda x: len(x[2])+1)\n",
    "\n",
    "    avg_resources_required   = np.mean(resources_required)\n",
    "    stdv__resources_required = np.std(resources_required)\n",
    "\n",
    "    return (len(resources), avg_resources_required, stdv__resources_required, len(D))\n",
    "\n",
    "\n",
    "\n",
    "time_to_call = datetime.timedelta(seconds=180)                                      #Expected time of each call\n",
    "length_of_period = datetime.timedelta(days=10)                                      #Legnth of each period to look at\n",
    "start_date = datetime.datetime.strptime('2016-02-01 00:00:00', '%Y-%m-%d %H:%M:%S') #start of first period\n",
    "\n",
    "client = pymongo.MongoClient()\n",
    "repo = client.repo\n",
    "repo.authenticate('bemullen_crussack_dharmesh_vinwah', 'bemullen_crussack_dharmesh_vinwah')\n",
    "\n",
    "#load service requests from repo\n",
    "service_requests = repo['bemullen_crussack_dharmesh_vinwah.service_requests']\n",
    "\n",
    "# project data on form (start_time, end_time, type)\n",
    "d = lambda x: (datetime.datetime.strptime(x['open_dt'], '%Y-%m-%dT%H:%M:%S'), datetime.datetime.strptime(x['open_dt'], '%Y-%m-%dT%H:%M:%S')+time_to_call, x['TYPE'])\n",
    "D = project(service_requests.find(), d)\n",
    "\n",
    "# filter data on relevant inquiries\n",
    "f = lambda x: x[2] in [\"Improper Storage of Trash (Barrels)\", \"Student Move-in Issues\",\\\n",
    "                       \"Unsafe Dangerous Conditions\", \"Overflowing or Un-kept Dumpster\",\\\n",
    "                       \"Squalid Living Conditions\", \"Illegal Posting of Signs\",\\\n",
    "                       \"Undefined Noise Disturbance\", \"Loud Parties/Music/People\",\\\n",
    "                       \"Bicycle Issues\", \"Student Overcrowding\", \"Illegal Rooming House\",\\\n",
    "                       \"Parking on Front/Back Yards (Illegal Parking)\", \"Trash on Vacant Lot\",\\\n",
    "                       \"Parking Enforcement\"]\n",
    "D = select(D, f)\n",
    "\n",
    "# project data on form (start_time, end_time)\n",
    "d = lambda x: (x[0], x[1])\n",
    "D = project(D, d)\n",
    "\n",
    "# variables to iterate over\n",
    "period_start = start_date                   # start of period \n",
    "period_end = start_date + length_of_period  # end of period\n",
    "\n",
    "# return true if inquiries is in the period\n",
    "s = lambda x: period_start <= x[0] <= period_end or period_start <= x[1] <= period_end\n",
    "\n",
    "data = []\n",
    "# iterate over all periods\n",
    "while(period_end < datetime.datetime.strptime('2018-03-30 00:00:00', '%Y-%m-%d %H:%M:%S')):\n",
    "    # filter inquiries from period\n",
    "    dates_in_period = select(D, s)\n",
    "    # find max, avg, std, and total_number_of_inquiries for period\n",
    "    (max_required, avg_required, std_required,total_number_of_inquiries) = intervalPartitioning(dates_in_period)\n",
    "\n",
    "    data.append( (period_start,period_end,max_required,avg_required,std_required,total_number_of_inquiries) )\n",
    "    period_start = period_end\n",
    "    period_end = period_end + length_of_period\n",
    "\n",
    "result = []\n",
    "# put into mongoDB dictionary format\n",
    "for d in data:\n",
    "    result.append({'start': d[0], 'end': d[1], 'max_required': d[2], 'avg_required': d[3], 'std_required': d[4], 'total_number_of_inquiries': d[5]})\n",
    "\n",
    "#insert into mongoDB, collection \"bemullen_crussack_dharmesh_vinwah.service_request_personel_required\"\n",
    "repo.drop_collection('bemullen_crussack_dharmesh_vinwah.service_request_personel_required')\n",
    "repo.create_collection('bemullen_crussack_dharmesh_vinwah.service_request_personel_required')\n",
    "repo['bemullen_crussack_dharmesh_vinwah.service_request_personel_required'].insert_many(result)\n",
    "\n",
    "\n",
    "# Selected periods we especialy want to look at\n",
    "selected_periods = [datetime.datetime.strptime('2016-08-30 00:00:00', '%Y-%m-%d %H:%M:%S'),\n",
    "                    datetime.datetime.strptime('2017-08-30 00:00:00', '%Y-%m-%d %H:%M:%S'),\n",
    "\n",
    "                    datetime.datetime.strptime('2016-12-22 00:00:00', '%Y-%m-%d %H:%M:%S'),\n",
    "                    datetime.datetime.strptime('2017-12-22 00:00:00', '%Y-%m-%d %H:%M:%S'),\n",
    "\n",
    "                    datetime.datetime.strptime('2016-06-01 00:00:00', '%Y-%m-%d %H:%M:%S'),\n",
    "                    datetime.datetime.strptime('2017-06-01 00:00:00', '%Y-%m-%d %H:%M:%S'),\n",
    "\n",
    "                    datetime.datetime.strptime('2016-10-01 00:00:00', '%Y-%m-%d %H:%M:%S'),\n",
    "                    datetime.datetime.strptime('2017-10-01 00:00:00', '%Y-%m-%d %H:%M:%S'),\n",
    "\n",
    "                    datetime.datetime.strptime('2016-02-01 00:00:00', '%Y-%m-%d %H:%M:%S'),\n",
    "                    datetime.datetime.strptime('2017-02-01 00:00:00', '%Y-%m-%d %H:%M:%S'),\n",
    "                   ]\n",
    "\n",
    "data = []\n",
    "for period_start in selected_periods:\n",
    "    period_end   = period_start + datetime.timedelta(days=10)\n",
    "\n",
    "    # filter inquiries from period\n",
    "    dates_in_period = select(D, lambda x: period_start <= x[0] <= period_end or\n",
    "                                          period_start <= x[1] <= period_end)\n",
    "    # find max, avg, std, and total_number_of_inquiries for period\n",
    "    (max_required,avg_required,std_required,total_number_of_inquiries) = intervalPartitioning(dates_in_period)\n",
    "    data.append( (period_start,period_end,max_required,avg_required,std_required,total_number_of_inquiries) )\n",
    "\n",
    "result = []\n",
    "# put into mongoDB dictionary format\n",
    "for d in data:\n",
    "    result.append({'start': d[0], 'end': d[1], 'max_required': d[2], 'avg_required': d[3], 'std_required':d[4], 'total_number_of_inquiries':d[5]})\n",
    "\n",
    "#insert into mongoDB, collection \"bemullen_crussack_dharmesh_vinwah.service_request_personel_required_specific_periods\"\n",
    "repo.drop_collection('bemullen_crussack_dharmesh_vinwah.service_request_personel_required_specific_periods')\n",
    "repo.create_collection('bemullen_crussack_dharmesh_vinwah.service_request_personel_required_specific_periods')\n",
    "repo['bemullen_crussack_dharmesh_vinwah.service_request_personel_required_specific_periods'].insert_many(result)\n",
    "\n",
    "repo.logout()"
   ]
  },
  {
   "cell_type": "markdown",
   "metadata": {},
   "source": []
  },
  {
   "cell_type": "markdown",
   "metadata": {},
   "source": []
  },
  {
   "cell_type": "markdown",
   "metadata": {},
   "source": [
    "Graph data"
   ]
  },
  {
   "cell_type": "code",
   "execution_count": 86,
   "metadata": {},
   "outputs": [
    {
     "data": {
      "image/png": "[encoded data removed]",
      "text/plain": [
       "<matplotlib.figure.Figure at 0x17d257a90>"
      ]
     },
     "metadata": {},
     "output_type": "display_data"
    },
    {
     "data": {
      "image/png": "[encoded data removed]",
      "text/plain": [
       "<matplotlib.figure.Figure at 0x164502588>"
      ]
     },
     "metadata": {},
     "output_type": "display_data"
    },
    {
     "data": {
      "image/png": "[encoded data removed]",
      "text/plain": [
       "<matplotlib.figure.Figure at 0x1071355c0>"
      ]
     },
     "metadata": {},
     "output_type": "display_data"
    }
   ],
   "source": [
    "import pandas as pd\n",
    "import matplotlib.pyplot as plt\n",
    "%matplotlib inline\n",
    "\n",
    "client = pymongo.MongoClient()\n",
    "repo = client.repo\n",
    "repo.authenticate('bemullen_crussack_dharmesh_vinwah', 'bemullen_crussack_dharmesh_vinwah')\n",
    "\n",
    "#load service requests from repo\n",
    "D = repo['bemullen_crussack_dharmesh_vinwah.service_request_personel_required_specific_periods']\n",
    "\n",
    "df = pd.DataFrame(list(D.find()))\n",
    "\n",
    "df = df[['start', 'end', 'max_required', 'avg_required', 'std_required', 'total_number_of_inquiries']]\n",
    "\n",
    "\n",
    "# plot average number of inquiries for each period\n",
    "x = ['move-in\\nperiod', 'last 10-days\\nof December', 'firs 10-days\\nof June', 'first 10-days\\nof October', 'first 10-days\\nof February']\n",
    "y = df['total_number_of_inquiries'].tolist()\n",
    "y = [(y[i]+y[i+1])/2 for i in range(0, len(y), 2)]\n",
    "\n",
    "plt.figure(figsize=(10,8))\n",
    "plt.bar(x, y, align='center')\n",
    "plt.title('Average number of inquiries for each period')\n",
    "plt.show()\n",
    "\n",
    "\n",
    "#plot average required number of personel required to answer inquiries\n",
    "x = ['move-in\\nperiod', 'last 10-days\\nof December', 'firs 10-days\\nof June', 'first 10-days\\nof October', 'first 10-days\\nof February']\n",
    "y = df['avg_required'].tolist()\n",
    "y = [(y[i]+y[i+1])/2 for i in range(0, len(y), 2)]\n",
    "\n",
    "plt.figure(figsize=(10,8))\n",
    "plt.bar(x, y, align='center')\n",
    "plt.title('Average required number of personel required to answer inquiries')\n",
    "plt.show()\n",
    "\n",
    "#plot minimum number of personel required to answer inquiries at maximum load\n",
    "x = ['move-in\\nperiod', 'last 10-days\\nof December', 'firs 10-days\\nof June', 'first 10-days\\nof October', 'first 10-days\\nof February']\n",
    "y = df['max_required'].tolist()\n",
    "y = [(y[i]+y[i+1])/2 for i in range(0, len(y), 2)]\n",
    "\n",
    "plt.figure(figsize=(10,8))\n",
    "plt.bar(x, y, align='center')\n",
    "plt.title('Minimum number of personel required to answer inquiries at maximum load')\n",
    "plt.show()\n",
    "\n"
   ]
  },
  {
   "cell_type": "code",
   "execution_count": null,
   "metadata": {},
   "outputs": [],
   "source": []
  }
 ],
 "metadata": {
  "kernelspec": {
   "display_name": "Python 3",
   "language": "python",
   "name": "python3"
  },
  "language_info": {
   "codemirror_mode": {
    "name": "ipython",
    "version": 3
   },
   "file_extension": ".py",
   "mimetype": "text/x-python",
   "name": "python",
   "nbconvert_exporter": "python",
   "pygments_lexer": "ipython3",
   "version": "3.6.4"
  }
 },
 "nbformat": 4,
 "nbformat_minor": 2
}
