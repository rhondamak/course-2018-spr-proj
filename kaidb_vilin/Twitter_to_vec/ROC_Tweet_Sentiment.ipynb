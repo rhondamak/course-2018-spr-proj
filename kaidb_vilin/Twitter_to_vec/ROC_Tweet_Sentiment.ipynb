{
 "cells": [
  {
   "cell_type": "code",
   "execution_count": 47,
   "metadata": {},
   "outputs": [],
   "source": [
    "import pandas as pd\n",
    "import numpy as np\n",
    "import dill\n",
    "import matplotlib.pyplot as plt\n",
    "import time\n",
    "from sklearn.feature_extraction.text import TfidfVectorizer\n",
    "import pickle\n",
    "from sklearn.linear_model import LogisticRegression\n",
    "from sklearn.externals import joblib\n",
    "from sklearn.metrics import roc_curve, auc,confusion_matrix, f1_score, auc\n",
    "\n",
    "from jupyterthemes import jtplot\n",
    "\n",
    "# currently installed theme will be used to\n",
    "# set plot style if no arguments provided\n",
    "jtplot.style()\n",
    "# You do not need any more imports \n",
    "%matplotlib inline"
   ]
  },
  {
   "cell_type": "code",
   "execution_count": 30,
   "metadata": {},
   "outputs": [],
   "source": [
    "# Load test data \n",
    "test_X = np.load('Data/test_x.npy').item()\n",
    "tesy_y = np.load('Data/test_y.npy')"
   ]
  },
  {
   "cell_type": "code",
   "execution_count": 32,
   "metadata": {},
   "outputs": [
    {
     "data": {
      "text/plain": [
       "(<15787x150000 sparse matrix of type '<class 'numpy.float64'>'\n",
       " \twith 315134 stored elements in Compressed Sparse Row format>,\n",
       " array([1, 1, 0, ..., 0, 1, 0]))"
      ]
     },
     "execution_count": 32,
     "metadata": {},
     "output_type": "execute_result"
    }
   ],
   "source": []
  },
  {
   "cell_type": "code",
   "execution_count": 6,
   "metadata": {},
   "outputs": [
    {
     "name": "stdout",
     "output_type": "stream",
     "text": [
      "Loaded model\n"
     ]
    }
   ],
   "source": [
    "# Load model\n",
    "clf = joblib.load('model/l2_LR1524414744.4756281.pkl')\n",
    "print(\"Loaded model\")"
   ]
  },
  {
   "cell_type": "code",
   "execution_count": 36,
   "metadata": {},
   "outputs": [],
   "source": [
    "# probability of class 1\n",
    "preds = clf.predict_proba(test_X)[:,1]"
   ]
  },
  {
   "cell_type": "code",
   "execution_count": 37,
   "metadata": {},
   "outputs": [
    {
     "data": {
      "text/plain": [
       "array([0.85541102, 0.9881711 , 0.14340534, ..., 0.17454978, 0.97379411,\n",
       "       0.00802728])"
      ]
     },
     "execution_count": 37,
     "metadata": {},
     "output_type": "execute_result"
    }
   ],
   "source": [
    "preds"
   ]
  },
  {
   "cell_type": "code",
   "execution_count": null,
   "metadata": {},
   "outputs": [],
   "source": []
  },
  {
   "cell_type": "code",
   "execution_count": 53,
   "metadata": {},
   "outputs": [],
   "source": [
    "def max_f1(prob_preds, labels):\n",
    "    \"\"\"\n",
    "    Finds the threshold of classification that maximizes the F1 Metric\n",
    "    \n",
    "    Arguments: \n",
    "    prob_preds -- numpy array of probability scores \n",
    "    labels -- ground truth labels\n",
    "    \n",
    "    Return:\n",
    "    cutoff -- Cutoff that maximizes the F1 metric\n",
    "    max_f1 -- maximal value for the f1 metric\n",
    "    \"\"\"\n",
    "    cutoff = 0\n",
    "    max_f1 = 0\n",
    "    for i in prob_preds:\n",
    "        preds = prob_preds > i\n",
    "        tmp_score = f1_score(labels, preds)\n",
    "        if tmp_score > max_f1:\n",
    "            max_f1 = tmp_score\n",
    "            cutoff = i\n",
    "    return cutoff, max_f1\n",
    "\n",
    "def find_closest_index(cutoff, thresholds):\n",
    "    \"\"\"\n",
    "    Finds the threshold closest to the cutoff. \n",
    "    \n",
    "    Arguments:\n",
    "    cutoff -- scalar cutoff value\n",
    "    threshholds -- list of all unique probabilities \n",
    "    TODO: implement this using Binary Search. YA boy is lazy. \n",
    "    \n",
    "    Return:\n",
    "    best_index -- index of thresholds that has a value closest to cutoff\n",
    "    TODO: Implement with binary search. \n",
    "    \"\"\"\n",
    "    best_index = -1\n",
    "    min_dist = 9999999\n",
    "    for i in range(len(thresholds)):\n",
    "        tmp = abs(cutoff - thresholds[i])\n",
    "        if tmp < min_dist:\n",
    "            min_dist = tmp\n",
    "            best_index = i\n",
    "    return best_index\n",
    "\n",
    "\n",
    "\n",
    "cm_cols = [\"Predicited Negative\", \"Predicted Positive\"]\n",
    "cm_index = [\"Negative\", \"Positive\"]\n",
    "\n",
    "def plot_roc( prob_preds, Y,cutoff=.5):\n",
    "    fpr, tpr, thresholds = roc_curve(Y, prob_preds)\n",
    "    AUC = auc(fpr,tpr)\n",
    "    cutoff_index = find_closest_index(cutoff, thresholds)\n",
    "    print(\"Closest threshold is\", thresholds[cutoff_index])\n",
    "    print(\"For threshold of: \" ,thresholds[cutoff_index], 'FPR:', fpr[cutoff_index], \"TPR:\", tpr[cutoff_index])\n",
    "    fig = plt.figure(figsize=(8,8))\n",
    "    plt.plot(fpr,tpr)\n",
    "    plt.title(\"ROC curve with AUC={}\".format(AUC))\n",
    "    plt.plot([0,1],'r--') \n",
    "    plt.scatter(fpr[cutoff_index],tpr[cutoff_index], marker='x',s=200, c='r')\n",
    "    preds = np.array(prob_preds) >= cutoff\n",
    "    preds = preds.astype(int)\n",
    "    cm = confusion_matrix(Y, preds)\n",
    "    f1 = f1_score(Y, preds)\n",
    "    cm_df = pd.DataFrame(cm, index=cm_index, columns=cm_cols)\n",
    "    print('F1-score',f1)\n",
    "    print()\n",
    "    print(cm_df)\n",
    "    plt.xlabel(\"False Positive Rate\")\n",
    "    plt.ylabel(\"True Positive rate\")\n",
    "    plt.savefig(\"ROC.png\")"
   ]
  },
  {
   "cell_type": "code",
   "execution_count": 54,
   "metadata": {},
   "outputs": [
    {
     "name": "stdout",
     "output_type": "stream",
     "text": [
      "Closest threshold is 0.4999805944555582\n",
      "For threshold of:  0.4999805944555582 FPR: 0.18951819579702717 TPR: 0.8342728297632469\n",
      "F1-score 0.8261274114509025\n",
      "\n",
      "          Predicited Negative  Predicted Positive\n",
      "Negative                 6325                1479\n",
      "Positive                 1324                6659\n"
     ]
    },
    {
     "data": {
      "image/png": "[encoded data removed]",
      "text/plain": [
       "<matplotlib.figure.Figure at 0x11213fe80>"
      ]
     },
     "metadata": {},
     "output_type": "display_data"
    }
   ],
   "source": [
    "plot_roc(preds,tesy_y)"
   ]
  },
  {
   "cell_type": "code",
   "execution_count": null,
   "metadata": {},
   "outputs": [],
   "source": []
  }
 ],
 "metadata": {
  "kernelspec": {
   "display_name": "Python 3",
   "language": "python",
   "name": "python3"
  },
  "language_info": {
   "codemirror_mode": {
    "name": "ipython",
    "version": 3
   },
   "file_extension": ".py",
   "mimetype": "text/x-python",
   "name": "python",
   "nbconvert_exporter": "python",
   "pygments_lexer": "ipython3",
   "version": "3.6.3"
  }
 },
 "nbformat": 4,
 "nbformat_minor": 2
}
