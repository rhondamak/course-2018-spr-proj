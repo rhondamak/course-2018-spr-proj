{
 "cells": [
  {
   "cell_type": "markdown",
   "metadata": {},
   "source": [
    "# Purpose of this Notebook\n",
    "- @AUTHOR: Kai Bernardini (kaidb@bu.edu)\n",
    "- Give an overview of how the model functions, is built and optimized\n",
    "- Benchmark on a **TOY** dataset"
   ]
  },
  {
   "cell_type": "code",
   "execution_count": 51,
   "metadata": {
    "collapsed": true
   },
   "outputs": [],
   "source": [
    "# Jupyter notebook specific \n",
    "from ipywidgets import interactive, fixed\n",
    "from IPython.display import Image\n",
    "from IPython.core.display import HTML \n",
    "from IPython.display import display_html\n",
    "from IPython.display import display\n",
    "from IPython.display import Math\n",
    "from IPython.display import Latex\n",
    "from IPython.display import HTML   \n",
    "\n"
   ]
  },
  {
   "cell_type": "code",
   "execution_count": 52,
   "metadata": {
    "collapsed": true
   },
   "outputs": [],
   "source": [
    "import numpy as np\n",
    "import pandas as pd\n",
    "import matplotlib.pyplot as plt\n",
    "import scipy\n",
    "import os\n",
    "import math\n",
    "\n",
    "from sklearn.metrics import f1_score\n",
    "from sklearn.metrics import roc_curve, auc,confusion_matrix\n",
    "\n",
    "%matplotlib inline"
   ]
  },
  {
   "cell_type": "code",
   "execution_count": 54,
   "metadata": {
    "collapsed": true
   },
   "outputs": [],
   "source": [
    "%%bash\n",
    "pip freeze > LR_requirements.txt"
   ]
  },
  {
   "cell_type": "code",
   "execution_count": 50,
   "metadata": {},
   "outputs": [
    {
     "data": {
      "text/plain": [
       "'./Wisconsin_breast_cancer.csv'"
      ]
     },
     "execution_count": 50,
     "metadata": {},
     "output_type": "execute_result"
    }
   ],
   "source": [
    "# Get the toy Dataset \n",
    "def find(name, path): #Helper method for locating files\n",
    "    for root, dirs, files in os.walk(path):\n",
    "        if name in files:\n",
    "            return os.path.join(root, name)\n",
    "path =  find('Wisconsin_breast_cancer.csv', \"./\" )\n",
    "path"
   ]
  },
  {
   "cell_type": "code",
   "execution_count": 21,
   "metadata": {},
   "outputs": [
    {
     "data": {
      "text/html": [
       "<div>\n",
       "<style>\n",
       "    .dataframe thead tr:only-child th {\n",
       "        text-align: right;\n",
       "    }\n",
       "\n",
       "    .dataframe thead th {\n",
       "        text-align: left;\n",
       "    }\n",
       "\n",
       "    .dataframe tbody tr th {\n",
       "        vertical-align: top;\n",
       "    }\n",
       "</style>\n",
       "<table border=\"1\" class=\"dataframe\">\n",
       "  <thead>\n",
       "    <tr style=\"text-align: right;\">\n",
       "      <th></th>\n",
       "      <th>Clump Thickness</th>\n",
       "      <th>Uniformity of Cell Size</th>\n",
       "      <th>Uniformity of Cell Shape</th>\n",
       "      <th>Marginal Adhesion</th>\n",
       "      <th>Single Epithelial Cell Size</th>\n",
       "      <th>Bare Nuclei</th>\n",
       "      <th>Bland Chromatin</th>\n",
       "      <th>Normal Nucleoli</th>\n",
       "      <th>Mitoses</th>\n",
       "      <th>Target</th>\n",
       "    </tr>\n",
       "  </thead>\n",
       "  <tbody>\n",
       "    <tr>\n",
       "      <th>0</th>\n",
       "      <td>5.0</td>\n",
       "      <td>1.0</td>\n",
       "      <td>1.0</td>\n",
       "      <td>1.0</td>\n",
       "      <td>2.0</td>\n",
       "      <td>1.0</td>\n",
       "      <td>3.0</td>\n",
       "      <td>1.0</td>\n",
       "      <td>1.0</td>\n",
       "      <td>0.0</td>\n",
       "    </tr>\n",
       "    <tr>\n",
       "      <th>1</th>\n",
       "      <td>5.0</td>\n",
       "      <td>4.0</td>\n",
       "      <td>4.0</td>\n",
       "      <td>5.0</td>\n",
       "      <td>7.0</td>\n",
       "      <td>10.0</td>\n",
       "      <td>3.0</td>\n",
       "      <td>2.0</td>\n",
       "      <td>1.0</td>\n",
       "      <td>0.0</td>\n",
       "    </tr>\n",
       "    <tr>\n",
       "      <th>2</th>\n",
       "      <td>3.0</td>\n",
       "      <td>1.0</td>\n",
       "      <td>1.0</td>\n",
       "      <td>1.0</td>\n",
       "      <td>2.0</td>\n",
       "      <td>2.0</td>\n",
       "      <td>3.0</td>\n",
       "      <td>1.0</td>\n",
       "      <td>1.0</td>\n",
       "      <td>0.0</td>\n",
       "    </tr>\n",
       "    <tr>\n",
       "      <th>3</th>\n",
       "      <td>6.0</td>\n",
       "      <td>8.0</td>\n",
       "      <td>8.0</td>\n",
       "      <td>1.0</td>\n",
       "      <td>3.0</td>\n",
       "      <td>4.0</td>\n",
       "      <td>3.0</td>\n",
       "      <td>7.0</td>\n",
       "      <td>1.0</td>\n",
       "      <td>0.0</td>\n",
       "    </tr>\n",
       "    <tr>\n",
       "      <th>4</th>\n",
       "      <td>4.0</td>\n",
       "      <td>1.0</td>\n",
       "      <td>1.0</td>\n",
       "      <td>3.0</td>\n",
       "      <td>2.0</td>\n",
       "      <td>1.0</td>\n",
       "      <td>3.0</td>\n",
       "      <td>1.0</td>\n",
       "      <td>1.0</td>\n",
       "      <td>0.0</td>\n",
       "    </tr>\n",
       "  </tbody>\n",
       "</table>\n",
       "</div>"
      ],
      "text/plain": [
       "   Clump Thickness  Uniformity of Cell Size  Uniformity of Cell Shape  \\\n",
       "0              5.0                      1.0                       1.0   \n",
       "1              5.0                      4.0                       4.0   \n",
       "2              3.0                      1.0                       1.0   \n",
       "3              6.0                      8.0                       8.0   \n",
       "4              4.0                      1.0                       1.0   \n",
       "\n",
       "   Marginal Adhesion  Single Epithelial Cell Size  Bare Nuclei  \\\n",
       "0                1.0                          2.0          1.0   \n",
       "1                5.0                          7.0         10.0   \n",
       "2                1.0                          2.0          2.0   \n",
       "3                1.0                          3.0          4.0   \n",
       "4                3.0                          2.0          1.0   \n",
       "\n",
       "   Bland Chromatin  Normal Nucleoli  Mitoses  Target  \n",
       "0              3.0              1.0      1.0     0.0  \n",
       "1              3.0              2.0      1.0     0.0  \n",
       "2              3.0              1.0      1.0     0.0  \n",
       "3              3.0              7.0      1.0     0.0  \n",
       "4              3.0              1.0      1.0     0.0  "
      ]
     },
     "execution_count": 21,
     "metadata": {},
     "output_type": "execute_result"
    }
   ],
   "source": [
    "# Display the first 5 rows of the dataset\n",
    "data = pd.read_csv(path, index_col=0)\n",
    "data.head()"
   ]
  },
  {
   "cell_type": "code",
   "execution_count": 22,
   "metadata": {
    "collapsed": true
   },
   "outputs": [],
   "source": [
    "# Some Preprocessing \n",
    "features = data.columns.values[:-1]\n",
    "target = data.columns.values[-1]\n",
    "\n",
    "# 0 -- Benign\n",
    "# 1 -- Malignant\n",
    "target_map = {\n",
    "    'benign':0,\n",
    "    'malignant':1\n",
    "}\n",
    "\n",
    "X, Y = data[features], data[target]\n",
    "Y = Y.values.reshape((Y.shape[0],1))"
   ]
  },
  {
   "cell_type": "code",
   "execution_count": null,
   "metadata": {
    "collapsed": true
   },
   "outputs": [],
   "source": []
  },
  {
   "cell_type": "markdown",
   "metadata": {},
   "source": [
    "# Sigmoid Squashing Function \n",
    "\n",
    "$h(x) = g( X w + b)$\n",
    "for $X \\in \\mathbb{R}^{m \\times p }$ ( $m$ examples, $p$ predictors) and $w \\in \\mathbb{R}^p$\n",
    "\n",
    "where function g is the sigmoid function. The sigmoid function is defined as:\n",
    "\n",
    "$g(z) = \\dfrac{1}{1+e^{-z}}$\n"
   ]
  },
  {
   "cell_type": "code",
   "execution_count": 23,
   "metadata": {
    "collapsed": true
   },
   "outputs": [],
   "source": [
    "def g(z):\n",
    "    \"\"\"\n",
    "    This function computes the sigmoid function across all values of z\n",
    "\n",
    "    Argument:\n",
    "    z -- numpy array of real numbers\n",
    "\n",
    "    Returns:\n",
    "    sigmoid(z)\n",
    "    \"\"\"\n",
    "    \n",
    "    return 1 / (1 + np.exp(-z))"
   ]
  },
  {
   "cell_type": "code",
   "execution_count": 24,
   "metadata": {},
   "outputs": [
    {
     "data": {
      "image/png": "[encoded data removed]",
      "text/plain": [
       "<matplotlib.figure.Figure at 0x10bdd51d0>"
      ]
     },
     "metadata": {},
     "output_type": "display_data"
    }
   ],
   "source": [
    "plt.figure(figsize=(10,6))\n",
    "plt.plot(np.arange(-10,10.5,.5) ,g( np.arange(-10,10.5,.5)))\n",
    "plt.xlabel('$z$')\n",
    "plt.ylabel('$g(z)$')\n",
    "plt.grid(True)\n",
    "plt.title(\"Sigmoid Function\")\n",
    "plt.show()\n",
    "#plt.savefig(\"sigmoid.png\")"
   ]
  },
  {
   "cell_type": "markdown",
   "metadata": {},
   "source": [
    "# Logistic Regression\n",
    "- Logistic regression is a way of adapting linear regression to a situation where the dependent variable Y (the outcome) has only two values, 0 or 1.\n",
    "- General Assumptions:\n",
    "$$P(\\ y=1 \\; \\vert \\; x \\ ; \\ b,w \\ ) = h_{w,b}(x)$$ \n",
    "\n",
    "$$P(\\ y=0 \\; \\vert \\; x \\ ; \\ b,w \\ ) = 1 - h_{b,w}(x)$$\n",
    "\n"
   ]
  },
  {
   "cell_type": "code",
   "execution_count": 25,
   "metadata": {
    "collapsed": true
   },
   "outputs": [],
   "source": [
    "def h(b, w ,X):\n",
    "    \"\"\"\n",
    "    This function implments the logistic regression hypothesis function\n",
    "\n",
    "    Argument:\n",
    "    b -- bias\n",
    "    w -- predictive parameters\n",
    "    X -- data matrix of size (numbers_examples, number_predictors)\n",
    "\n",
    "    Returns:\n",
    "    sigmoid(Xw + b)\n",
    "    \"\"\"\n",
    "    return g( (X @ w) + b)"
   ]
  },
  {
   "cell_type": "markdown",
   "metadata": {},
   "source": [
    "# Loss Function\n",
    "- Goal is to maximize the likelihood of observations\n",
    "\n",
    "$$L(\\theta) = \\prod_{i=1}^{m}{h_{b,w}(x^i)}^{y^{(i)}}(1-h_{b,w}(x^i))^{1-y^{(i)}}$$\n",
    "\n",
    "Taking the log of both sides gives\n",
    "\n",
    "$$\\log L(b,w) =\\sum_{i=1}^{m} \\ [ \\ -y^{(i)} \\log(h_{b,w}(x^{(i)})) \\ - \\ (1 - y^{(i)})\\log(1-h_{b,w}(x^{(i)}))$$\n",
    "\n",
    "- Goal is is to find \n",
    "$$ \\hat{b}, \\hat{w} = min_{b,w} J(w,b,X,Y) = min_{b,w}\\sum_{i=1}^{m} \\ [ \\ -y^{(i)} \\log(h_{b,w}(x^{(i)})) \\ - \\ (1 - y^{(i)})\\log(1-h_{b,w}(x^{(i)}))$$"
   ]
  },
  {
   "cell_type": "code",
   "execution_count": 26,
   "metadata": {
    "collapsed": true
   },
   "outputs": [],
   "source": [
    "def computeCost(b, w, X, Y, lmbda = 0): \n",
    "    \"\"\"\n",
    "    Computes Cross Entropy Loss function \n",
    "\n",
    "    Arguments:\n",
    "    b -- bias\n",
    "    w -- predictive parameters\n",
    "    X -- data matrix of size (numbers_examples, number_predictors)\n",
    "    Y -- Ground truth labels of size (number_examples, 1)\n",
    "    lmbda -- regularization hyperparameter\n",
    "    \n",
    "    Return:\n",
    "    cost -- negative log-likelihood cost for logistic regression\n",
    "    \"\"\"\n",
    "\n",
    "    m = Y.size\n",
    "    term1 = np.dot(-np.array(Y).T,np.log(h(b,w,X)))\n",
    "    term2 = np.dot((1-np.array(Y)).T,np.log(1-h(b,w,X)))\n",
    "    reg = (1/2)* lmbda * w.T @ w\n",
    "    return np.squeeze( (1./m) * ( np.sum(term1 - term2) )  + reg)"
   ]
  },
  {
   "cell_type": "markdown",
   "metadata": {},
   "source": [
    "# Optimization\n",
    "- There is no closed form solution to the above optimization problem, so we resort to numerical methods.\n",
    "## Gradient Decent \n",
    "- Choose a learning rate $\\alpha$ \n",
    "- for $k$ iterations, do the following:\n",
    "    - $$w \\leftarrow w - \\alpha (\\nabla_w J)$$\n",
    "    - $$b \\leftarrow b - \\alpha (\\frac{\\partial }{\\partial b}J)$$"
   ]
  },
  {
   "cell_type": "code",
   "execution_count": 27,
   "metadata": {
    "collapsed": true
   },
   "outputs": [],
   "source": [
    "\n",
    "def computeGradients(b, w, X, Y, lmbda):\n",
    "    \"\"\"\n",
    "    Computes gradients\n",
    "\n",
    "    Arguments:\n",
    "    b -- bias\n",
    "    w -- weight parameters\n",
    "    X -- datamatrix\n",
    "    Y -- ground truth labels \n",
    "    lmbda -- regularization hyperparameter\n",
    "\n",
    "    Return:\n",
    "    cost -- Loss function cose\n",
    "    dw -- gradient of the loss with respect to predictors w\n",
    "    db -- gradient of the loss with respect to bias b    \n",
    "    \"\"\"\n",
    "    # number of examples\n",
    "    m = X.shape[0]\n",
    "    # Hypothesis predictions \n",
    "    hx = h(b,w,X)\n",
    "    cost = computeCost(b, w, X,Y)\n",
    "    dw =  (1/m ) *  X.T @ (hx -Y) + (lmbda * w) \n",
    "    db = (1/m ) *  np.sum(hx - Y)\n",
    "\n",
    "    assert(dw.shape == w.shape)\n",
    "    assert(db.dtype == float)\n",
    "    # Cost should be scalar\n",
    "    cost = np.squeeze(cost)\n",
    "    assert(cost.shape == ())\n",
    "    \n",
    "    grads = {\"dw\": dw,\n",
    "             \"db\": db}\n",
    "    # store cost to track its value as a function of iterations \n",
    "    return grads, cost"
   ]
  },
  {
   "cell_type": "code",
   "execution_count": 28,
   "metadata": {
    "collapsed": true
   },
   "outputs": [],
   "source": [
    "# Util function for utiling weights \n",
    "def initialize(p):\n",
    "    \"\"\"\n",
    "    This function initializes the predictive parameters to all 0. \n",
    "\n",
    "    Argument:\n",
    "    p -- Number of predictors \n",
    "\n",
    "    Returns:\n",
    "    w -- Zero vector of shape (p, 1) (column vector)\n",
    "    b -- bias (initialized to 0) (scalar)\n",
    "    \"\"\"\n",
    "    \n",
    "    w = np.zeros((p,1))\n",
    "    b = 0.\n",
    "\n",
    "    # Ensure the model corectly initializes all parameters \n",
    "    assert(w.shape == (p, 1))\n",
    "    assert(isinstance(b, float) or isinstance(b, int))\n",
    "    return  b, w"
   ]
  },
  {
   "cell_type": "code",
   "execution_count": 29,
   "metadata": {
    "collapsed": true
   },
   "outputs": [],
   "source": [
    "# Python implementation of gradient descent with early stoping \n",
    "def gradientDescent(b, w,  X, Y,lmbda, num_iterations, learning_rate, verbose = False, stopping_tolerance = 1e-8):\n",
    "    \"\"\"\n",
    "    This function calculates w,b  by running a gradient descent for num_iterations. \n",
    "    \n",
    "    Arguments:\n",
    "    b -- bias, \n",
    "    w -- predictors\n",
    "    X -- datamatrix\n",
    "    Y -- ground truth labels\n",
    "    lmbda -- regularization hyperparameter\n",
    "    num_iterations -- number of times to run GD \n",
    "    learning_rate -- values for alpha. \n",
    "    verbose --Log the loss every 100 steps\n",
    "    \n",
    "    Returns:\n",
    "    b_optimal -- optimized bias \n",
    "    w_optimal -- optimized predictor\n",
    "    costs -- Array of \n",
    "    \n",
    "    TODO: add early stoping, optimization options, regularization \n",
    "    \"\"\"\n",
    "    \n",
    "    costs = []\n",
    "    tol=0\n",
    "    for i in range(num_iterations):\n",
    "        # Compute Gradient and cost\n",
    "        grads, cost = computeGradients(b, w, X, Y, lmbda)\n",
    "        # Retrieve derivatives from grads\n",
    "        dw = grads[\"dw\"]\n",
    "        db = grads[\"db\"]\n",
    "        \n",
    "        # Gradient update\n",
    "        w_old = w\n",
    "        b_old = b\n",
    "        \n",
    "        w = w - learning_rate * (dw)\n",
    "        b = b - learning_rate * (db)\n",
    "        if np.linalg.norm(w_old - w) < stopping_tolerance:\n",
    "            tol+=1\n",
    "            if tol>10:\n",
    "                print(\"Early stopping triggered at itteration {}\".format(i))\n",
    "                costs.append(cost)\n",
    "                break\n",
    "        else:\n",
    "            tol=0\n",
    "        # Log cost (every 100 iterations )\n",
    "        if i % 100 == 0:\n",
    "            costs.append(cost)\n",
    "            if verbose:\n",
    "                print (\"Loss Value after iteration {}: {}\".format(i, cost))\n",
    "    \n",
    "    b_optimal, w_optimal = b, w\n",
    "    return b_optimal, w_optimal, costs"
   ]
  },
  {
   "cell_type": "markdown",
   "metadata": {},
   "source": [
    "# Gradient Descent with Momentum\n",
    "- Similar, but uses an exponential rolling average \n",
    "- Also introduces a parameter velocity $v$ (dependent on params). \n",
    "- Updates rules are defined as follows:\n",
    "$$ \\begin{cases}\n",
    "v_{dw} = \\beta v_{dw} + (1 - \\beta) dw \\\\\n",
    "w = w- \\alpha v_{dw}\n",
    "\\end{cases}$$\n",
    "\n",
    "$$\\begin{cases}\n",
    "v_{db} = \\beta v_{db} + (1 - \\beta) db \\\\\n",
    "b = b - \\alpha v_{db} \n",
    "\\end{cases}$$\n",
    "\n",
    "where  $\\beta$ is the momentum and $\\alpha$ is the learning rate.[hyper parameters]"
   ]
  },
  {
   "cell_type": "code",
   "execution_count": 30,
   "metadata": {
    "collapsed": true
   },
   "outputs": [],
   "source": [
    "def initialize_velocity(b,w):\n",
    "    \"\"\"\n",
    "    Initializes the velocity for momentum\n",
    "    \n",
    "    Arguments:\n",
    "    b -- bias \n",
    "    w -- predictive parameters \n",
    "    \n",
    "    Returns:\n",
    "    v -- python dictionary containing velocity\n",
    "    \"\"\"\n",
    "    v  = {}\n",
    "    v[\"dw\"] = np.zeros( w.shape)\n",
    "    v[\"db\"] = np.zeros( (1,1))\n",
    "    return v"
   ]
  },
  {
   "cell_type": "code",
   "execution_count": null,
   "metadata": {
    "collapsed": true
   },
   "outputs": [],
   "source": [
    "  "
   ]
  },
  {
   "cell_type": "code",
   "execution_count": 31,
   "metadata": {
    "collapsed": true
   },
   "outputs": [],
   "source": [
    "def compute_update_with_momentum(b,w, grads, v, beta, learning_rate):\n",
    "    \"\"\"\n",
    "    Update parameters using Momentum\n",
    "    \n",
    "    Arguments:\n",
    "    b -- bias\n",
    "    w -- predictive weights\n",
    "    grads -- python dictionary containing your gradients for each parameters:\n",
    "                    grads['dW' + str(l)] = dWl\n",
    "                    grads['db' + str(l)] = dbl\n",
    "    v -- python dictionary containing the current velocity:\n",
    "                    v['dW' + str(l)] = ...\n",
    "                    v['db' + str(l)] = ...\n",
    "    beta -- the momentum hyperparameter, scalar\n",
    "    learning_rate -- the learning rate, scalar\n",
    "    \n",
    "    Returns:\n",
    "    parameters -- python dictionary containing your updated parameters \n",
    "    v -- python dictionary containing your updated velocities\n",
    "    \"\"\"\n",
    "\n",
    "    # Momentum update for each parameter\n",
    "    dw, db = grads[\"dw\"], grads[\"db\" ]\n",
    "    vdw, vdb = v[\"dw\"], v[\"db\"]\n",
    "    # compute velocities\n",
    "    v[\"dw\"] = (beta * vdw) + (1 - beta)*dw\n",
    "    v[\"db\"] = (beta * vdb) + (1 - beta)*db\n",
    "    # update parameters\n",
    "    w -= learning_rate * v[\"dw\"]\n",
    "    b -= learning_rate * v[\"db\"]\n",
    "\n",
    "    return b,w, v"
   ]
  },
  {
   "cell_type": "code",
   "execution_count": 32,
   "metadata": {
    "collapsed": true
   },
   "outputs": [],
   "source": [
    "\n",
    "def momentumGradientDescent(b, w,v,  X, Y,lmbda, num_iterations, learning_rate,beta, verbose = False, stopping_tolerance = 1e-6):\n",
    "    \"\"\"\n",
    "    This function calculates w,b  by running a gradient descent for num_iterations. \n",
    "    \n",
    "    Arguments:\n",
    "    b -- bias, \n",
    "    w -- predictors\n",
    "    v -- velocity parameters \n",
    "    X -- datamatrix\n",
    "    Y -- ground truth labels\n",
    "    lmbda -- regularization hyperparameter\n",
    "    num_iterations -- number of times to run GD \n",
    "    learning_rate -- values for alpha. \n",
    "    beta -- momentum\n",
    "    verbose --Log the loss every 100 steps\n",
    "    \n",
    "    Returns:\n",
    "    b_optimal -- optimized bias \n",
    "    w_optimal -- optimized predictor\n",
    "    costs -- Array of \n",
    "    \n",
    "    TODO: add early stoping, optimization options, regularization \n",
    "    \"\"\"\n",
    "    \n",
    "    costs = []\n",
    "    tol=0\n",
    "    for i in range(num_iterations):\n",
    "        # Compute Gradient and cost\n",
    "        grads, cost = computeGradients(b, w, X, Y, lmbda)\n",
    "        # Retrieve derivatives from grads\n",
    "        dw = grads[\"dw\"]\n",
    "        db = grads[\"db\"]\n",
    "        \n",
    "        # Gradient update\n",
    "        w_old = w\n",
    "        b_old = b\n",
    "        b,w,v = compute_update_with_momentum(b,w, grads, v, beta, learning_rate)\n",
    "    \n",
    "        if np.linalg.norm(w_old - w) < stopping_tolerance:\n",
    "            tol+=1\n",
    "            if tol>1000:\n",
    "                print(\"Early stopping triggered at itteration {}\".format(i))\n",
    "                costs.append(cost)\n",
    "                break\n",
    "        else:\n",
    "            tol=0\n",
    "        # Log cost (every 100 iterations )\n",
    "        if i % 1000 == 0:\n",
    "            costs.append(cost)\n",
    "            if verbose:\n",
    "                print (\"Loss Value after iteration {}: {}\".format(i, cost))\n",
    "    \n",
    "    b_optimal, w_optimal = b, w\n",
    "    return b_optimal, w_optimal, costs"
   ]
  },
  {
   "cell_type": "markdown",
   "metadata": {},
   "source": [
    "# Stochastic/ Mini-batch   Gradient Descent\n",
    "- Update parameters in chunks\n",
    "- Learning plot is no longer Monotone"
   ]
  },
  {
   "cell_type": "code",
   "execution_count": 33,
   "metadata": {
    "collapsed": true
   },
   "outputs": [],
   "source": [
    "# initialize batches.\n",
    "\n",
    "def random_mini_batches(X, Y, mini_batch_size = 64, seed = 69): \n",
    "    \"\"\"\n",
    "    Creates a list of random minibatches from (X, Y)\n",
    "    \n",
    "    Arguments:\n",
    "    X -- Datamatrix of shape (m,p) (m examples, p predictors)\n",
    "    Y -- Ground Truth vector of shape (m,1)\n",
    "    mini_batch_size -- size of the mini-batches, integer\n",
    "    \n",
    "    Returns:\n",
    "    mini_batches -- list of tuples (mini_batch_X_i, mini_batch_Y_i) for i =0...len(mini_batches)-1\n",
    "    \"\"\"\n",
    "    \n",
    "    np.random.seed(seed)            # To make your \"random\" minibatches the same as ours\n",
    "    m = X.shape[0]                  # number of training examples\n",
    "    mini_batches = []\n",
    "        \n",
    "    # Permute the dataset synchronously \n",
    "    permutation = list(np.random.permutation(m))\n",
    "    shuffled_X = X[permutation,:]\n",
    "    shuffled_Y = Y[ permutation,:].reshape((m,1))\n",
    "\n",
    "    # Divide (X,Y) into chunks of mini_batch_size\n",
    "    num_complete_minibatches = math.floor(m/mini_batch_size) # number of mini batches of size mini_batch_size in your partitionning\n",
    "    for k in range(0, num_complete_minibatches):\n",
    "        mini_batch_X = shuffled_X[ k * mini_batch_size : (k+1) * mini_batch_size,:]\n",
    "        mini_batch_Y = shuffled_Y[ k * mini_batch_size : (k+1) * mini_batch_size,:]\n",
    "        mini_batch = (mini_batch_X, mini_batch_Y)\n",
    "        mini_batches.append(mini_batch)\n",
    "    \n",
    "    # Edge Case\n",
    "    if m % mini_batch_size != 0:\n",
    "        mini_batch_X = shuffled_X[ num_complete_minibatches*mini_batch_size:: ,:]\n",
    "        mini_batch_Y = shuffled_Y[ num_complete_minibatches*mini_batch_size:: ,:]\n",
    "        mini_batch = (mini_batch_X, mini_batch_Y)\n",
    "        mini_batches.append(mini_batch)\n",
    "    \n",
    "    return mini_batches"
   ]
  },
  {
   "cell_type": "code",
   "execution_count": 34,
   "metadata": {
    "collapsed": true
   },
   "outputs": [],
   "source": [
    "\n",
    "def miniBatchMomentumGradientDescent(b, w,v,  X, Y,lmbda, num_iterations, learning_rate,beta, verbose = False,batch_size=64,seed=6969, stopping_tolerance = 1e-6):\n",
    "    \"\"\"\n",
    "    This function calculates w,b  by running a gradient descent for num_iterations. \n",
    "    \n",
    "    Arguments:\n",
    "    b -- bias, \n",
    "    w -- predictors\n",
    "    v -- velocity parameters \n",
    "    X -- datamatrix\n",
    "    Y -- ground truth labels\n",
    "    lmbda -- regularization hyperparameter\n",
    "    num_iterations -- number of times to run GD \n",
    "    learning_rate -- values for alpha. \n",
    "    beta -- momentum\n",
    "    verbose --Log the loss every 100 steps\n",
    "    \n",
    "    Returns:\n",
    "    b_optimal -- optimized bias \n",
    "    w_optimal -- optimized predictor\n",
    "    costs -- Array of \n",
    "    \n",
    "    TODO: add early stoping, optimization options, regularization \n",
    "    \"\"\"\n",
    "    \n",
    "    costs = []\n",
    "    for i in range(num_iterations):\n",
    "        \n",
    "        # Define the random minibatches. We increment the seed to reshuffle differently the dataset after each epoch\n",
    "        seed = seed + 1\n",
    "        minibatches = random_mini_batches(X, Y, batch_size, seed)\n",
    "        \n",
    "        for minibatch in minibatches:\n",
    "            (minibatch_X, minibatch_Y) = minibatch\n",
    "            # Compute Gradient and cost\n",
    "            grads, cost = computeGradients(b, w, minibatch_X, minibatch_Y, lmbda)\n",
    "            # Retrieve derivatives from grads\n",
    "            dw = grads[\"dw\"]\n",
    "            db = grads[\"db\"]\n",
    "\n",
    "            # Gradient update\n",
    "            w_old = w\n",
    "            b_old = b\n",
    "            b,w,v = compute_update_with_momentum(b,w, grads, v, beta, learning_rate)\n",
    "\n",
    "           \n",
    "            # Log cost (every 100 iterations )\n",
    "            if i % 1000 == 0:\n",
    "                costs.append(cost)\n",
    "                if verbose:\n",
    "                    print (\"Loss Value after iteration {}: {}\".format(i, cost))\n",
    "\n",
    "    b_optimal, w_optimal = b, w\n",
    "    return b_optimal, w_optimal, costs"
   ]
  },
  {
   "cell_type": "code",
   "execution_count": 35,
   "metadata": {
    "collapsed": true
   },
   "outputs": [],
   "source": [
    "\n",
    "# A solution\n",
    "\n",
    "class LogisticRegression:\n",
    "    def __init__(self, lmbda = 0, learning_rate = .01,beta=.9 ,num_iterations= 10000, opt='GD', seed=6969, batch_size=64):\n",
    "        self.costs = None\n",
    "        self.opt=opt\n",
    "        self.lmbda = lmbda\n",
    "        self.alpha = learning_rate\n",
    "        # only used if momentum is used \n",
    "        self.beta=.9\n",
    "        self.num_iterations = num_iterations\n",
    "        self.seed = seed\n",
    "        self.batch_size = batch_size\n",
    "        \n",
    "    def fit(self, X, Y, verbose=False):\n",
    "        self.p = X.shape[1]\n",
    "        self.b, self.w = initialize(self.p)\n",
    "        opt=self.opt\n",
    "        if opt ==\"GD\":\n",
    "            print(\"Using Gradient Descent\")\n",
    "            self.b,self.w , self.costs = gradientDescent(\n",
    "                self.b, \n",
    "                self.w,\n",
    "                X,\n",
    "                Y,\n",
    "                self.lmbda,\n",
    "                self.num_iterations,\n",
    "                self.alpha,\n",
    "                verbose = verbose)\n",
    "        if opt == \"Momentum\":\n",
    "            print(\"Using Gradient Descent with Momentum\")\n",
    "            self.v = initialize_velocity(self.b,self.w)\n",
    "            self.b,self.w , self.costs = momentumGradientDescent(\n",
    "                self.b, \n",
    "                self.w,\n",
    "                self.v,\n",
    "                X,\n",
    "                Y,\n",
    "                self.lmbda,\n",
    "                self.num_iterations,\n",
    "                self.alpha,\n",
    "                self.beta,\n",
    "                verbose = verbose)\n",
    "        if opt == \"MB_Momentum\":\n",
    "            print(\"Using MiniBatch Gradient Descent with Momentum\")\n",
    "            self.v = initialize_velocity(self.b,self.w)\n",
    "            self.b,self.w , self.costs = miniBatchMomentumGradientDescent(\n",
    "                b=self.b, \n",
    "                w= self.w,\n",
    "                v= self.v,\n",
    "                X=X,\n",
    "                Y=Y,\n",
    "                lmbda = self.lmbda,\n",
    "                num_iterations= self.num_iterations,\n",
    "                learning_rate= self.alpha,\n",
    "                beta= self.beta,\n",
    "                batch_size= self.batch_size,\n",
    "                seed = self.seed,\n",
    "                verbose = verbose)\n",
    "            \n",
    "\n",
    "        \n",
    "    def predict_prob(self, X):\n",
    "        return h(self.b, self.w, X)\n",
    "    \n",
    "    def predict(self, X):\n",
    "        preds = self.predict_prob(X)\n",
    "        return np.around(preds + 1e-6) \n",
    "    \n",
    "    def score(self, X, Y):\n",
    "        preds = self.predict(X)\n",
    "        return np.squeeze(np.sum(preds == Y) / len(Y))\n",
    "    \n",
    "    def plot_learning_curve(self):\n",
    "        # Plot learning curve (with costs)\n",
    "        plt.figure(figsize=(8,6))\n",
    "        plt.plot(self.costs)\n",
    "        plt.ylabel('cost')\n",
    "        plt.xlabel('iterations (per hundreds)')\n",
    "        plt.title(\"Learning rate =\" + str(self.alpha))\n",
    "        plt.show()\n",
    "        \n",
    "    "
   ]
  },
  {
   "cell_type": "code",
   "execution_count": 36,
   "metadata": {},
   "outputs": [
    {
     "name": "stdout",
     "output_type": "stream",
     "text": [
      "Using MiniBatch Gradient Descent with Momentum\n",
      "Loss Value after iteration 0: 0.6931471805599452\n",
      "Loss Value after iteration 0: 0.6883580635813772\n",
      "Loss Value after iteration 0: 0.6880002762386226\n",
      "Loss Value after iteration 0: 0.6802203515592435\n",
      "Loss Value after iteration 0: 0.6701431064481422\n",
      "Loss Value after iteration 0: 0.6578621746099108\n",
      "Loss Value after iteration 0: 0.6692042042449033\n",
      "Loss Value after iteration 0: 0.6574985351596642\n",
      "Loss Value after iteration 0: 0.6399569202111633\n",
      "Loss Value after iteration 0: 0.6639779134070919\n",
      "Loss Value after iteration 0: 0.6340404882785461\n",
      "Loss Value after iteration 1000: 0.34121058234538687\n",
      "Loss Value after iteration 1000: 0.29189592080573845\n",
      "Loss Value after iteration 1000: 0.2900983958861779\n",
      "Loss Value after iteration 1000: 0.28759349084809066\n",
      "Loss Value after iteration 1000: 0.32091549741264835\n",
      "Loss Value after iteration 1000: 0.33864834131004723\n",
      "Loss Value after iteration 1000: 0.3390595873135183\n",
      "Loss Value after iteration 1000: 0.28298763288312223\n",
      "Loss Value after iteration 1000: 0.34682394693961704\n",
      "Loss Value after iteration 1000: 0.2808045145308955\n",
      "Loss Value after iteration 1000: 0.301211933659288\n",
      "Loss Value after iteration 2000: 0.3324384410561078\n",
      "Loss Value after iteration 2000: 0.3092340779159388\n",
      "Loss Value after iteration 2000: 0.3249231900732442\n",
      "Loss Value after iteration 2000: 0.3187485393604733\n",
      "Loss Value after iteration 2000: 0.2832682040401718\n",
      "Loss Value after iteration 2000: 0.31833749304308023\n",
      "Loss Value after iteration 2000: 0.2971592808480136\n",
      "Loss Value after iteration 2000: 0.31555097775294827\n",
      "Loss Value after iteration 2000: 0.3538298441009492\n",
      "Loss Value after iteration 2000: 0.32070794196046065\n",
      "Loss Value after iteration 2000: 0.2955556113261468\n",
      "Loss Value after iteration 3000: 0.3068479988067926\n",
      "Loss Value after iteration 3000: 0.29827958159371426\n",
      "Loss Value after iteration 3000: 0.32671511618096905\n",
      "Loss Value after iteration 3000: 0.31777264833755253\n",
      "Loss Value after iteration 3000: 0.3155143908332167\n",
      "Loss Value after iteration 3000: 0.3185941987109885\n",
      "Loss Value after iteration 3000: 0.3026049527979258\n",
      "Loss Value after iteration 3000: 0.322672491155074\n",
      "Loss Value after iteration 3000: 0.3421097991041441\n",
      "Loss Value after iteration 3000: 0.34351582711628703\n",
      "Loss Value after iteration 3000: 0.3027473907470546\n",
      "Loss Value after iteration 4000: 0.30987356333330085\n",
      "Loss Value after iteration 4000: 0.31808121356621\n",
      "Loss Value after iteration 4000: 0.3578934385741779\n",
      "Loss Value after iteration 4000: 0.3187523093280312\n",
      "Loss Value after iteration 4000: 0.3576354364546094\n",
      "Loss Value after iteration 4000: 0.28392557454546985\n",
      "Loss Value after iteration 4000: 0.3241064289779737\n",
      "Loss Value after iteration 4000: 0.2947817364550085\n",
      "Loss Value after iteration 4000: 0.31728704647189165\n",
      "Loss Value after iteration 4000: 0.32362854109244615\n",
      "Loss Value after iteration 4000: 0.37034534591472457\n",
      "Loss Value after iteration 5000: 0.3153659102847416\n",
      "Loss Value after iteration 5000: 0.2824206262688043\n",
      "Loss Value after iteration 5000: 0.30171062442959884\n",
      "Loss Value after iteration 5000: 0.27345362265245304\n",
      "Loss Value after iteration 5000: 0.30093034028243626\n",
      "Loss Value after iteration 5000: 0.35950949522365916\n",
      "Loss Value after iteration 5000: 0.30817702374942857\n",
      "Loss Value after iteration 5000: 0.33992000720998417\n",
      "Loss Value after iteration 5000: 0.31455762529888687\n",
      "Loss Value after iteration 5000: 0.3670425332609352\n",
      "Loss Value after iteration 5000: 0.31247907281434484\n",
      "Loss Value after iteration 6000: 0.31937674080633616\n",
      "Loss Value after iteration 6000: 0.3576743571316\n",
      "Loss Value after iteration 6000: 0.3196418008049996\n",
      "Loss Value after iteration 6000: 0.34145336353155353\n",
      "Loss Value after iteration 6000: 0.2803136174255019\n",
      "Loss Value after iteration 6000: 0.3067616973458156\n",
      "Loss Value after iteration 6000: 0.31870068611845315\n",
      "Loss Value after iteration 6000: 0.29819384657561876\n",
      "Loss Value after iteration 6000: 0.30244865711190855\n",
      "Loss Value after iteration 6000: 0.3037808482711887\n",
      "Loss Value after iteration 6000: 0.26907079352764474\n",
      "Loss Value after iteration 7000: 0.323364410151071\n",
      "Loss Value after iteration 7000: 0.30785192592759547\n",
      "Loss Value after iteration 7000: 0.2926409327793452\n",
      "Loss Value after iteration 7000: 0.36735237792007525\n",
      "Loss Value after iteration 7000: 0.32439861076379406\n",
      "Loss Value after iteration 7000: 0.29348621726563784\n",
      "Loss Value after iteration 7000: 0.34515671507092294\n",
      "Loss Value after iteration 7000: 0.29967676338925775\n",
      "Loss Value after iteration 7000: 0.32308033377309997\n",
      "Loss Value after iteration 7000: 0.2918383768908531\n",
      "Loss Value after iteration 7000: 0.3283290950682025\n",
      "Loss Value after iteration 8000: 0.2975875843664467\n",
      "Loss Value after iteration 8000: 0.31989933381615\n",
      "Loss Value after iteration 8000: 0.33264642190724925\n",
      "Loss Value after iteration 8000: 0.36577023449523033\n",
      "Loss Value after iteration 8000: 0.33968046263787377\n",
      "Loss Value after iteration 8000: 0.33695302856193954\n",
      "Loss Value after iteration 8000: 0.29710192710186123\n",
      "Loss Value after iteration 8000: 0.2803358686571552\n",
      "Loss Value after iteration 8000: 0.32363920123382034\n",
      "Loss Value after iteration 8000: 0.30687193336271434\n",
      "Loss Value after iteration 8000: 0.33390720574262595\n",
      "Loss Value after iteration 9000: 0.30865171130056857\n",
      "Loss Value after iteration 9000: 0.3008503239621083\n",
      "Loss Value after iteration 9000: 0.35483059581313503\n",
      "Loss Value after iteration 9000: 0.31359393913534994\n",
      "Loss Value after iteration 9000: 0.2965404793573744\n",
      "Loss Value after iteration 9000: 0.31499260020893816\n",
      "Loss Value after iteration 9000: 0.36207001150582596\n",
      "Loss Value after iteration 9000: 0.30984744726203994\n",
      "Loss Value after iteration 9000: 0.3605371847502622\n",
      "Loss Value after iteration 9000: 0.31665115769644325\n",
      "Loss Value after iteration 9000: 0.27970241068153023\n"
     ]
    }
   ],
   "source": [
    "clf = LogisticRegression(lmbda=10, opt=\"MB_Momentum\")\n",
    "clf.fit(X.values,Y, verbose=True)"
   ]
  },
  {
   "cell_type": "code",
   "execution_count": 37,
   "metadata": {},
   "outputs": [
    {
     "data": {
      "text/plain": [
       "0.931185944363104"
      ]
     },
     "execution_count": 37,
     "metadata": {},
     "output_type": "execute_result"
    }
   ],
   "source": [
    "clf.score(X,Y)"
   ]
  },
  {
   "cell_type": "code",
   "execution_count": 39,
   "metadata": {},
   "outputs": [
    {
     "data": {
      "image/png": "[encoded data removed]",
      "text/plain": [
       "<matplotlib.figure.Figure at 0x10bdd58d0>"
      ]
     },
     "metadata": {},
     "output_type": "display_data"
    }
   ],
   "source": [
    "clf.plot_learning_curve()"
   ]
  },
  {
   "cell_type": "code",
   "execution_count": 40,
   "metadata": {
    "collapsed": true
   },
   "outputs": [],
   "source": [
    "prob_preds = clf.predict_prob(X)\n",
    "fpr, tpr, thresholds = roc_curve(Y, prob_preds)"
   ]
  },
  {
   "cell_type": "code",
   "execution_count": 41,
   "metadata": {},
   "outputs": [
    {
     "data": {
      "text/plain": [
       "108"
      ]
     },
     "execution_count": 41,
     "metadata": {},
     "output_type": "execute_result"
    }
   ],
   "source": [
    "len(thresholds)"
   ]
  },
  {
   "cell_type": "code",
   "execution_count": 42,
   "metadata": {
    "collapsed": true
   },
   "outputs": [],
   "source": [
    "AUC = auc(fpr,tpr)\n",
    "#f1_score(Y, preds)\n"
   ]
  },
  {
   "cell_type": "code",
   "execution_count": 43,
   "metadata": {
    "collapsed": true
   },
   "outputs": [],
   "source": [
    "def max_f1(prob_preds, labels):\n",
    "    \"\"\"\n",
    "    Finds the threshold of classification that maximizes the F1 Metric\n",
    "    \n",
    "    Arguments: \n",
    "    prob_preds -- numpy array of probability scores \n",
    "    labels -- ground truth labels\n",
    "    \n",
    "    Return:\n",
    "    cutoff -- Cutoff that maximizes the F1 metric\n",
    "    max_f1 -- maximal value for the f1 metric\n",
    "    \"\"\"\n",
    "    cutoff = 0\n",
    "    max_f1 = 0\n",
    "    for i in prob_preds:\n",
    "        preds = prob_preds > i\n",
    "        tmp_score = f1_score(labels, preds)\n",
    "        if tmp_score > max_f1:\n",
    "            max_f1 = tmp_score\n",
    "            cutoff = i\n",
    "    return cutoff, max_f1"
   ]
  },
  {
   "cell_type": "code",
   "execution_count": 44,
   "metadata": {
    "collapsed": true
   },
   "outputs": [],
   "source": [
    "def find_closest_index(cutoff, thresholds):\n",
    "    \"\"\"\n",
    "    Finds the threshold closest to the cutoff. \n",
    "    \n",
    "    Arguments:\n",
    "    cutoff -- scalar cutoff value\n",
    "    threshholds -- list of all unique probabilities \n",
    "    TODO: implement this using Binary Search \n",
    "    \n",
    "    Return:\n",
    "    best_index -- index of thresholds that has a value closest to cutoff\n",
    "    TODO: Implement with binary search. \n",
    "    \"\"\"\n",
    "    best_index = -1\n",
    "    min_dist = 9999999\n",
    "    for i in range(len(thresholds)):\n",
    "        tmp = abs(cutoff - thresholds[i])\n",
    "        if tmp < min_dist:\n",
    "            min_dist = tmp\n",
    "            best_index = i\n",
    "    return best_index"
   ]
  },
  {
   "cell_type": "code",
   "execution_count": 45,
   "metadata": {},
   "outputs": [
    {
     "data": {
      "application/vnd.jupyter.widget-view+json": {
       "model_id": "527c2784503344a4a7b65b4085a5fd5d",
       "version_major": 2,
       "version_minor": 0
      },
      "text/plain": [
       "A Jupyter Widget"
      ]
     },
     "metadata": {},
     "output_type": "display_data"
    }
   ],
   "source": [
    "cm_cols = [\"Predicited Benign\", \"Predicted Malignant\"]\n",
    "cm_index = [\"Benign\", \"Malignant\"]\n",
    "\n",
    "def plot_roc(cutoff):\n",
    "    cutoff_index = find_closest_index(cutoff, thresholds)\n",
    "    print(\"Closest threshold is\", thresholds[cutoff_index])\n",
    "    print(\"For threshold of: \" ,thresholds[cutoff_index], 'FPR:', fpr[cutoff_index], \"TPR:\", tpr[cutoff_index])\n",
    "    fig = plt.figure(figsize=(8,8))\n",
    "    plt.plot(fpr,tpr)\n",
    "    plt.title(\"ROC curve with AUC={}\".format(AUC))\n",
    "    plt.plot([0,1],'r--') \n",
    "    plt.scatter(fpr[cutoff_index],tpr[cutoff_index], marker='x',s=200, c='r')\n",
    "    preds = np.array(prob_preds) >= cutoff\n",
    "    preds = preds.astype(int)\n",
    "    cm = confusion_matrix(Y, preds)\n",
    "    f1 = f1_score(Y, preds)\n",
    "    cm_df = pd.DataFrame(cm, index=cm_index, columns=cm_cols)\n",
    "    print('F1-score',f1)\n",
    "    print()\n",
    "    print(cm_df)\n",
    "    \n",
    "    plt.xlabel(\"False Positive Rate\")\n",
    "    plt.ylabel(\"True Positive rate\")\n",
    "    \n",
    "interactive(plot_roc, cutoff=(0.,1.))"
   ]
  },
  {
   "cell_type": "code",
   "execution_count": 47,
   "metadata": {},
   "outputs": [
    {
     "name": "stderr",
     "output_type": "stream",
     "text": [
      "/Users/kbernardini/anaconda3/lib/python3.6/site-packages/sklearn/metrics/classification.py:1135: UndefinedMetricWarning: F-score is ill-defined and being set to 0.0 due to no predicted samples.\n",
      "  'precision', 'predicted', average, warn_for)\n"
     ]
    },
    {
     "name": "stdout",
     "output_type": "stream",
     "text": [
      "Closest threshold is 0.2928278003047412\n",
      "For threshold of:  0.2928278003047412 FPR: 0.033783783783783786 TPR: 0.99581589958159\n",
      "F1-score 0.9655172413793104\n",
      "\n",
      "           Predicited Benign  Predicted Malignant\n",
      "Benign                   428                   16\n",
      "Malignant                  1                  238\n"
     ]
    },
    {
     "data": {
      "image/png": "[encoded data removed]",
      "text/plain": [
       "<matplotlib.figure.Figure at 0x10b8abd30>"
      ]
     },
     "metadata": {},
     "output_type": "display_data"
    }
   ],
   "source": [
    "plot_roc(max_f1(prob_preds, Y)[0])"
   ]
  },
  {
   "cell_type": "code",
   "execution_count": null,
   "metadata": {
    "collapsed": true
   },
   "outputs": [],
   "source": []
  },
  {
   "cell_type": "code",
   "execution_count": null,
   "metadata": {
    "collapsed": true
   },
   "outputs": [],
   "source": []
  }
 ],
 "metadata": {
  "kernelspec": {
   "display_name": "Python 3",
   "language": "python",
   "name": "python3"
  },
  "language_info": {
   "codemirror_mode": {
    "name": "ipython",
    "version": 3
   },
   "file_extension": ".py",
   "mimetype": "text/x-python",
   "name": "python",
   "nbconvert_exporter": "python",
   "pygments_lexer": "ipython3",
   "version": "3.6.3"
  }
 },
 "nbformat": 4,
 "nbformat_minor": 2
}
